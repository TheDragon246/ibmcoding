{
 "cells": [
  {
   "cell_type": "markdown",
   "metadata": {},
   "source": [
    "> Based on the videos and the reading material, how would you define a data scientist and data science? (3 marks)\n",
    "\n",
    "_Data scientist uses scientific method to analyze to understand and solve a relevant issue. These insights are then shared with relevant people. Data science is the method used by data scientist for their work. It is the use of scientific method to make sense of the data.Data science is one of the most important emerging scientific fields because humanity produces a deluge of data in all sectors of society, from entertainment to medical science to astronomy. The ability to derive meaningful conclusions from such data and successfully communicating such observations with relevant stakeholders is the calling of a data scientist._\n",
    "\n",
    "> As discussed in the videos and the reading material, data science can be applied to problems across different industries. What industry are you passionate about and would like to pursue a data science career in? (1 mark)\n",
    "\n",
    "_I would like to use data science to understand how the human brain works. Data analysis is a key component of computational neuroscience and hence, learning data science will help me towards my goal. _\n",
    "\n",
    "> Based on the videos and the reading material, what are the ten main components of a report that would be delivered at the end of a data science project? (5 marks)\n",
    "\n",
    "A final deliverable in the form of a report, has the following 10 main components:\n",
    "\n",
    "    Cover page\n",
    "    Table of contents\n",
    "    Introductory section\n",
    "    Methodology section\n",
    "    Results section\n",
    "    Discussion section\n",
    "    Conclusion section\n",
    "    References\n",
    "    Acknowledgment\n",
    "    Appendix\n",
    "Also a _summary_ can be added before introduction to help a reader get a concise overview of the report."
   ]
  }
 ],
 "metadata": {
  "kernelspec": {
   "display_name": "Python 3",
   "language": "python",
   "name": "python3"
  },
  "language_info": {
   "codemirror_mode": {
    "name": "ipython",
    "version": 3
   },
   "file_extension": ".py",
   "mimetype": "text/x-python",
   "name": "python",
   "nbconvert_exporter": "python",
   "pygments_lexer": "ipython3",
   "version": "3.7.6"
  }
 },
 "nbformat": 4,
 "nbformat_minor": 4
}
