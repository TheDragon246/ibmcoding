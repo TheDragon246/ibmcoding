{
 "cells": [
  {
   "cell_type": "markdown",
   "metadata": {},
   "source": [
    "## Using data science to understand patient diagnosis in case of a pandemic (Covid-19)\n",
    "\n",
    "> Which topic did you choose to apply the data science methodology to? (2 marks)\n",
    "\n",
    "_I have selected 'Hospitals' topic. More specifically, how to automate patient classification and guide them to proper department in the hospital in case of a pandemic._\n",
    "\n",
    "> Next, you will play the role of the client and the data scientist. \n",
    "Using the topic that you selected, complete the Business Understanding stage by coming up with a problem that you would like to solve and phrasing it in the form of a question that you will use data to answer. (3 marks)\n",
    "You are required to:\n",
    "    Describe the problem, related to the topic you selected.\n",
    "    Phrase the problem as a question to be answered using data.\n",
    "\n",
    "_During pandemic (like the current Covid-19 pandemic), the medical system gets overwhelmed by the patient influx. Since hospitals are heavily understaffed to deal with such a crisis, any automation would alleviate the system of the stress._\n",
    "\n",
    "`Would it be possible to automate patient classification at the first point of contact (for patients suffering from Covid-19) so that they are provided proper advice and guided to proper department and treatment protocol?`\n",
    "\n",
    "> Briefly explain how you would complete each of the following stages for the problem that you described in the Business Understanding stage, so that you are ultimately able to answer the question that you came up with. (5 marks):\n",
    "    Analytic Approach\n",
    "    Data Requirements\n",
    "    Data Collection\n",
    "    Data Understanding and Preparation\n",
    "    Modeling and Evaluation\n",
    "\n",
    "_1. Analytical Approach - \n",
    "Since we are predominantly looking for people with a respiratory illness, we can use a decision tree to segregate patients based on their symptoms. For the decision tree to work, we need to decide which parameters to use which will ensure node purity and maximum information gain. Patient symptoms, travel history, and contact with any infected person can be used to classify patients._\n",
    "\n",
    "_2. Data Requirements - \n",
    "Since we determined that patient symptoms, travel history to any disease hotspot country, and any contact with a known case, a data collection of all patients reporting to hospital with those cases is needed._\n",
    "\n",
    "_3. Data Collection -\n",
    "The main sources of data collection would be the hospital databases (structured data), emergency phone call records (to hospitals, individual medical practitioners and helplines - this may be unstructured and semi-structured data), airport data to name a few sources._\n",
    "\n",
    "_4. Data Understanding and Preparation -\n",
    "According to WHO, symptoms for Covid-19 include fever, dry cough, tiredness, shortage of breath etc. We would need to ascertain if the data collected accurately mentions this data and take care of any duplication, formatting issues, missing, invalid or outlier values. An example of this would be to convert most of the columns (parameters to be used) into binary format, where presence or absence of fever would be noted as 1 or 0 respectively.\n",
    "In this step, based on the country, data gathered and policy guidelines (domain knowledge), we would need to assign weightage to different parameters. For example, in a country where domestic spread of the disease has not happened yet, Covid-19 assumption and further decisions based on such would only be considered if the patient had prior contact with a known case, and vice-versa._\n",
    "\n",
    "_5. Modeling and Evaluation -\n",
    "The decision tree is then evaluated based on its performance on a test set of data randomly selected from the entire database (in-sample forecast). If it is found viable, then out-of-sample forecast would offer real time analysis of this model. Based on feedback, the model parameters can be tuned for better results._"
   ]
  },
  {
   "cell_type": "code",
   "execution_count": null,
   "metadata": {},
   "outputs": [],
   "source": []
  }
 ],
 "metadata": {
  "kernelspec": {
   "display_name": "Python 3",
   "language": "python",
   "name": "python3"
  },
  "language_info": {
   "codemirror_mode": {
    "name": "ipython",
    "version": 3
   },
   "file_extension": ".py",
   "mimetype": "text/x-python",
   "name": "python",
   "nbconvert_exporter": "python",
   "pygments_lexer": "ipython3",
   "version": "3.7.6"
  }
 },
 "nbformat": 4,
 "nbformat_minor": 4
}
